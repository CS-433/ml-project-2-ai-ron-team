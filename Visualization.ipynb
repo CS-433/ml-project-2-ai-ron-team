{
 "cells": [
  {
   "cell_type": "code",
   "execution_count": 12,
   "id": "9ce46656",
   "metadata": {},
   "outputs": [],
   "source": [
    "import numpy as np\n",
    "import keras\n",
    "from keras.layers import Dense, Input\n",
    "from keras.models import Model\n",
    "from sklearn.model_selection import train_test_split\n",
    "import pandas as pd\n",
    "from sklearn.preprocessing import LabelEncoder\n",
    "from keras.utils import to_categorical"
   ]
  },
  {
   "cell_type": "code",
   "execution_count": 13,
   "id": "4f5220a4",
   "metadata": {},
   "outputs": [],
   "source": [
    "import matplotlib.pyplot as plt\n",
    "import seaborn as sns"
   ]
  },
  {
   "cell_type": "code",
   "execution_count": 14,
   "id": "08a74144",
   "metadata": {},
   "outputs": [],
   "source": [
    "path = './Files/Before_Feature_Engineering/'\n",
    "data_C_part1 = pd.read_csv(path + 'data_C_part1.csv', low_memory=False)\n",
    "data_C_part2 = pd.read_csv(path + 'data_C_part2.csv', low_memory=False)\n",
    "data_D = pd.read_csv(path + 'data_D.csv', low_memory=False)"
   ]
  },
  {
   "cell_type": "code",
   "execution_count": 15,
   "id": "c4213464",
   "metadata": {},
   "outputs": [
    {
     "data": {
      "text/plain": [
       "Index(['architectural_archetype', 'stories', 'soil_class', 'seismic_zone',\n",
       "       'connection_system', 'Story', 'Direction', 'Wall', 'L cm', 'xi cm',\n",
       "       'yi cm', 'D+0.25L', 'Story Area', 'Nail spacing [cm]',\n",
       "       'Number sheathing panels', 'Number end studs', 'Total number studs',\n",
       "       'HoldDown Model / ATS'],\n",
       "      dtype='object')"
      ]
     },
     "execution_count": 15,
     "metadata": {},
     "output_type": "execute_result"
    }
   ],
   "source": [
    "data_C_part1.columns"
   ]
  },
  {
   "cell_type": "code",
   "execution_count": 16,
   "id": "9898da93",
   "metadata": {},
   "outputs": [
    {
     "data": {
      "text/plain": [
       "Index(['architectural_archetype', 'stories', 'soil_class', 'seismic_zone',\n",
       "       'connection_system', 'L cm_1_X_1.1', 'xi cm_1_X_1.1', 'yi cm_1_X_1.1',\n",
       "       'L cm_1_X_1.2', 'xi cm_1_X_1.2',\n",
       "       ...\n",
       "       'xi cm_5_X_13.4', 'yi cm_5_X_13.4', 'L cm_5_Y_H.4', 'xi cm_5_Y_H.4',\n",
       "       'yi cm_5_Y_H.4', 'L cm_5_Y_J.6', 'xi cm_5_Y_J.6', 'yi cm_5_Y_J.6',\n",
       "       'Tx(s)', 'Ty(s)'],\n",
       "      dtype='object', length=3619)"
      ]
     },
     "execution_count": 16,
     "metadata": {},
     "output_type": "execute_result"
    }
   ],
   "source": [
    "data_C_part2.columns"
   ]
  },
  {
   "cell_type": "code",
   "execution_count": 17,
   "id": "5fe55ec8",
   "metadata": {},
   "outputs": [
    {
     "data": {
      "text/plain": [
       "Index(['architectural_archetype', 'stories', 'soil_class', 'seismic_zone',\n",
       "       'connection_system', 'L cm_1_X_1.1', 'xi cm_1_X_1.1', 'yi cm_1_X_1.1',\n",
       "       'Nail spacing [cm]_1_X_1.1', 'Number sheathing panels_1_X_1.1',\n",
       "       ...\n",
       "       'µy', 'CMR', 'SSF', 'ACMR', 'IO-ln θ', 'IO-β', 'LS-ln θ', 'LS-β',\n",
       "       'CP-ln θ', 'CP-β'],\n",
       "      dtype='object', length=9632)"
      ]
     },
     "execution_count": 17,
     "metadata": {},
     "output_type": "execute_result"
    }
   ],
   "source": [
    "data_D.columns"
   ]
  },
  {
   "cell_type": "markdown",
   "id": "7f0be3ab",
   "metadata": {},
   "source": [
    "This will help us determine which columns are categoricales and which ones are not."
   ]
  },
  {
   "cell_type": "code",
   "execution_count": 26,
   "id": "74ca60a2",
   "metadata": {},
   "outputs": [],
   "source": [
    "import pandas as pd\n",
    "import matplotlib.pyplot as plt\n",
    "import seaborn as sns\n",
    "\n",
    "# Read the data\n",
    "path = './Files/Before_Feature_Engineering/'\n",
    "data_C_part1 = pd.read_csv(path + 'data_C_part1.csv', low_memory=False)\n",
    "data_C_part2 = pd.read_csv(path + 'data_C_part2.csv', low_memory=False)\n",
    "data_D = pd.read_csv(path + 'data_D.csv', low_memory=False)\n",
    "\n",
    "# Rename column in data_C_part1\n",
    "data_C_part1.rename(columns={'HoldDown Model / ATS': 'HD_ATS'}, inplace=True)\n",
    "\n",
    "# Function to create and save plots\n",
    "def create_and_save_plots(dataframe, dataframe_name, save_dir):\n",
    "    sns.set_style(\"whitegrid\")\n",
    "\n",
    "    for i in dataframe.columns:\n",
    "        # Get the value counts\n",
    "        value_counts = dataframe[i].value_counts()\n",
    "\n",
    "        # Create a bar plot for the value counts\n",
    "        plt.figure(figsize=(10, 6))\n",
    "        sns.barplot(x=value_counts.index, y=value_counts.values)\n",
    "\n",
    "        # Adding title and labels\n",
    "        plt.title(f'Value Counts of {i} in {dataframe_name}')\n",
    "        plt.ylabel('Counts')\n",
    "        plt.xlabel(f'{i} Values')\n",
    "\n",
    "        # Save the plot to a file\n",
    "        plt.savefig(f'{save_dir}{dataframe_name}_{i}_value_counts.png')\n",
    "\n",
    "        # Close the plot to avoid display issues in some environments\n",
    "        plt.close()\n",
    "\n",
    "# Directory where plots will be saved\n",
    "save_dir = './Files/Visualisation/Exploratory_Data_Analysis/'\n",
    "\n",
    "# Create and save plots for each DataFrame\n",
    "create_and_save_plots(data_C_part1, 'data_C_part1', save_dir)\n",
    "#We don't need to do it for data_C_part2, since we only need to visualise for Tx and Ty that is alredy found in d\n",
    "target_column_D = ['Ωx', 'Ωy', 'µx', 'µy', 'CMR', 'SSF', 'ACMR', 'IO-ln θ','IO-β','LS-ln θ','LS-β', 'CP-ln θ','CP-β']\n",
    "target_column_C_2 = ['Tx(s)', 'Ty(s)']\n",
    "columns = target_column_D + target_column_C_2\n",
    "create_and_save_plots(data_D[columns], 'data_D', save_dir)\n"
   ]
  },
  {
   "cell_type": "code",
   "execution_count": null,
   "id": "a42e9d76",
   "metadata": {},
   "outputs": [],
   "source": []
  },
  {
   "cell_type": "code",
   "execution_count": null,
   "id": "18d1e9cc",
   "metadata": {},
   "outputs": [],
   "source": []
  }
 ],
 "metadata": {
  "kernelspec": {
   "display_name": "Python 3 (ipykernel)",
   "language": "python",
   "name": "python3"
  },
  "language_info": {
   "codemirror_mode": {
    "name": "ipython",
    "version": 3
   },
   "file_extension": ".py",
   "mimetype": "text/x-python",
   "name": "python",
   "nbconvert_exporter": "python",
   "pygments_lexer": "ipython3",
   "version": "3.10.7"
  }
 },
 "nbformat": 4,
 "nbformat_minor": 5
}
