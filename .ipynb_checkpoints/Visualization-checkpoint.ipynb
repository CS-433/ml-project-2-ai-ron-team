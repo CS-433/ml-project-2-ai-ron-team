{
 "cells": [
  {
   "cell_type": "code",
   "execution_count": 24,
   "id": "9ce46656",
   "metadata": {},
   "outputs": [],
   "source": [
    "import numpy as np\n",
    "import keras\n",
    "from keras.layers import Dense, Input\n",
    "from keras.models import Model\n",
    "from sklearn.model_selection import train_test_split\n",
    "import pandas as pd\n",
    "from sklearn.preprocessing import LabelEncoder\n",
    "from keras.utils import to_categorical"
   ]
  },
  {
   "cell_type": "code",
   "execution_count": 25,
   "id": "08a74144",
   "metadata": {},
   "outputs": [],
   "source": [
    "path = './Files/After_Feature_Engineering/Split/'\n",
    "X_train = pd.read_csv(path + 'X_train_C_part1_FE.csv', low_memory=False)\n",
    "X_test = pd.read_csv(path + 'X_test_C_part1_FE.csv', low_memory=False)\n",
    "Y_train = pd.read_csv(path + 'Y_train_C_part1_FE.csv', low_memory=False)\n",
    "Y_test = pd.read_csv(path + 'Y_test_C_part1_FE.csv', low_memory=False)"
   ]
  },
  {
   "cell_type": "code",
   "execution_count": 35,
   "id": "248be0fa",
   "metadata": {
    "scrolled": true
   },
   "outputs": [
    {
     "name": "stdout",
     "output_type": "stream",
     "text": [
      "Epoch 1/100\n",
      "1246/1246 [==============================] - 5s 2ms/step - loss: 97.6717 - nail_spacing_loss: 0.7225 - num_sheathing_panels_loss: 0.3150 - num_end_studs_loss: 1.0309 - total_num_studs_loss: 61.7845 - holddown_model_loss: 33.8188 - nail_spacing_accuracy: 0.7031 - num_sheathing_panels_accuracy: 0.8732 - num_end_studs_accuracy: 0.6375 - total_num_studs_mae: 6.1467 - holddown_model_mae: 3.6106 - val_loss: 48.4835 - val_nail_spacing_loss: 0.6436 - val_num_sheathing_panels_loss: 0.2697 - val_num_end_studs_loss: 0.7896 - val_total_num_studs_loss: 23.4922 - val_holddown_model_loss: 23.2885 - val_nail_spacing_accuracy: 0.7357 - val_num_sheathing_panels_accuracy: 0.8904 - val_num_end_studs_accuracy: 0.7347 - val_total_num_studs_mae: 3.3882 - val_holddown_model_mae: 3.2818\n",
      "Epoch 2/100\n",
      "1246/1246 [==============================] - 2s 2ms/step - loss: 41.0908 - nail_spacing_loss: 0.6188 - num_sheathing_panels_loss: 0.2603 - num_end_studs_loss: 0.7268 - total_num_studs_loss: 18.7936 - holddown_model_loss: 20.6914 - nail_spacing_accuracy: 0.7419 - num_sheathing_panels_accuracy: 0.8926 - num_end_studs_accuracy: 0.7554 - total_num_studs_mae: 3.1366 - holddown_model_mae: 3.0833 - val_loss: 34.8369 - val_nail_spacing_loss: 0.6122 - val_num_sheathing_panels_loss: 0.2549 - val_num_end_studs_loss: 0.6669 - val_total_num_studs_loss: 15.5114 - val_holddown_model_loss: 17.7916 - val_nail_spacing_accuracy: 0.7443 - val_num_sheathing_panels_accuracy: 0.8895 - val_num_end_studs_accuracy: 0.7767 - val_total_num_studs_mae: 2.9364 - val_holddown_model_mae: 2.8947\n",
      "Epoch 3/100\n",
      "1246/1246 [==============================] - 2s 2ms/step - loss: 32.2693 - nail_spacing_loss: 0.5972 - num_sheathing_panels_loss: 0.2515 - num_end_studs_loss: 0.6338 - total_num_studs_loss: 13.9985 - holddown_model_loss: 16.7884 - nail_spacing_accuracy: 0.7471 - num_sheathing_panels_accuracy: 0.8932 - num_end_studs_accuracy: 0.7824 - total_num_studs_mae: 2.7746 - holddown_model_mae: 2.8570 - val_loss: 28.6480 - val_nail_spacing_loss: 0.5988 - val_num_sheathing_panels_loss: 0.2495 - val_num_end_studs_loss: 0.5970 - val_total_num_studs_loss: 11.9735 - val_holddown_model_loss: 15.2292 - val_nail_spacing_accuracy: 0.7477 - val_num_sheathing_panels_accuracy: 0.8907 - val_num_end_studs_accuracy: 0.7976 - val_total_num_studs_mae: 2.5650 - val_holddown_model_mae: 2.7808\n",
      "Epoch 4/100\n",
      "1246/1246 [==============================] - 2s 2ms/step - loss: 27.1123 - nail_spacing_loss: 0.5878 - num_sheathing_panels_loss: 0.2479 - num_end_studs_loss: 0.5745 - total_num_studs_loss: 10.8867 - holddown_model_loss: 14.8155 - nail_spacing_accuracy: 0.7507 - num_sheathing_panels_accuracy: 0.8928 - num_end_studs_accuracy: 0.7935 - total_num_studs_mae: 2.4242 - holddown_model_mae: 2.7663 - val_loss: 24.6534 - val_nail_spacing_loss: 0.5940 - val_num_sheathing_panels_loss: 0.2469 - val_num_end_studs_loss: 0.5505 - val_total_num_studs_loss: 9.4061 - val_holddown_model_loss: 13.8559 - val_nail_spacing_accuracy: 0.7475 - val_num_sheathing_panels_accuracy: 0.8910 - val_num_end_studs_accuracy: 0.8076 - val_total_num_studs_mae: 2.2581 - val_holddown_model_mae: 2.7005\n",
      "Epoch 5/100\n",
      "1246/1246 [==============================] - 2s 2ms/step - loss: 23.7621 - nail_spacing_loss: 0.5827 - num_sheathing_panels_loss: 0.2459 - num_end_studs_loss: 0.5319 - total_num_studs_loss: 8.6230 - holddown_model_loss: 13.7785 - nail_spacing_accuracy: 0.7527 - num_sheathing_panels_accuracy: 0.8932 - num_end_studs_accuracy: 0.8046 - total_num_studs_mae: 2.1340 - holddown_model_mae: 2.7085 - val_loss: 22.0553 - val_nail_spacing_loss: 0.5911 - val_num_sheathing_panels_loss: 0.2455 - val_num_end_studs_loss: 0.5165 - val_total_num_studs_loss: 7.5418 - val_holddown_model_loss: 13.1605 - val_nail_spacing_accuracy: 0.7501 - val_num_sheathing_panels_accuracy: 0.8909 - val_num_end_studs_accuracy: 0.8129 - val_total_num_studs_mae: 1.9979 - val_holddown_model_mae: 2.6762\n",
      "Epoch 6/100\n",
      "1246/1246 [==============================] - 2s 2ms/step - loss: 21.5662 - nail_spacing_loss: 0.5798 - num_sheathing_panels_loss: 0.2446 - num_end_studs_loss: 0.4995 - total_num_studs_loss: 6.9905 - holddown_model_loss: 13.2518 - nail_spacing_accuracy: 0.7540 - num_sheathing_panels_accuracy: 0.8927 - num_end_studs_accuracy: 0.8149 - total_num_studs_mae: 1.9008 - holddown_model_mae: 2.6832 - val_loss: 20.2934 - val_nail_spacing_loss: 0.5894 - val_num_sheathing_panels_loss: 0.2453 - val_num_end_studs_loss: 0.4886 - val_total_num_studs_loss: 6.1888 - val_holddown_model_loss: 12.7813 - val_nail_spacing_accuracy: 0.7494 - val_num_sheathing_panels_accuracy: 0.8924 - val_num_end_studs_accuracy: 0.8208 - val_total_num_studs_mae: 1.7917 - val_holddown_model_mae: 2.6268\n",
      "Epoch 7/100\n",
      "1246/1246 [==============================] - 2s 2ms/step - loss: 20.0811 - nail_spacing_loss: 0.5779 - num_sheathing_panels_loss: 0.2441 - num_end_studs_loss: 0.4742 - total_num_studs_loss: 5.8120 - holddown_model_loss: 12.9729 - nail_spacing_accuracy: 0.7549 - num_sheathing_panels_accuracy: 0.8929 - num_end_studs_accuracy: 0.8258 - total_num_studs_mae: 1.7166 - holddown_model_mae: 2.6659 - val_loss: 19.1040 - val_nail_spacing_loss: 0.5886 - val_num_sheathing_panels_loss: 0.2441 - val_num_end_studs_loss: 0.4676 - val_total_num_studs_loss: 5.2199 - val_holddown_model_loss: 12.5837 - val_nail_spacing_accuracy: 0.7494 - val_num_sheathing_panels_accuracy: 0.8922 - val_num_end_studs_accuracy: 0.8328 - val_total_num_studs_mae: 1.6421 - val_holddown_model_mae: 2.6195\n",
      "Epoch 8/100\n",
      "1246/1246 [==============================] - 2s 2ms/step - loss: 19.0579 - nail_spacing_loss: 0.5766 - num_sheathing_panels_loss: 0.2436 - num_end_studs_loss: 0.4541 - total_num_studs_loss: 4.9622 - holddown_model_loss: 12.8214 - nail_spacing_accuracy: 0.7559 - num_sheathing_panels_accuracy: 0.8927 - num_end_studs_accuracy: 0.8324 - total_num_studs_mae: 1.5768 - holddown_model_mae: 2.6584 - val_loss: 18.2628 - val_nail_spacing_loss: 0.5881 - val_num_sheathing_panels_loss: 0.2436 - val_num_end_studs_loss: 0.4508 - val_total_num_studs_loss: 4.5035 - val_holddown_model_loss: 12.4768 - val_nail_spacing_accuracy: 0.7498 - val_num_sheathing_panels_accuracy: 0.8933 - val_num_end_studs_accuracy: 0.8372 - val_total_num_studs_mae: 1.5118 - val_holddown_model_mae: 2.6131\n",
      "Epoch 9/100\n",
      "1246/1246 [==============================] - 2s 2ms/step - loss: 18.3391 - nail_spacing_loss: 0.5757 - num_sheathing_panels_loss: 0.2433 - num_end_studs_loss: 0.4377 - total_num_studs_loss: 4.3458 - holddown_model_loss: 12.7366 - nail_spacing_accuracy: 0.7556 - num_sheathing_panels_accuracy: 0.8933 - num_end_studs_accuracy: 0.8395 - total_num_studs_mae: 1.4679 - holddown_model_mae: 2.6526 - val_loss: 17.6742 - val_nail_spacing_loss: 0.5883 - val_num_sheathing_panels_loss: 0.2436 - val_num_end_studs_loss: 0.4388 - val_total_num_studs_loss: 3.9858 - val_holddown_model_loss: 12.4176 - val_nail_spacing_accuracy: 0.7512 - val_num_sheathing_panels_accuracy: 0.8919 - val_num_end_studs_accuracy: 0.8425 - val_total_num_studs_mae: 1.4161 - val_holddown_model_mae: 2.6223\n",
      "Epoch 10/100\n",
      "1246/1246 [==============================] - 2s 2ms/step - loss: 17.8140 - nail_spacing_loss: 0.5751 - num_sheathing_panels_loss: 0.2431 - num_end_studs_loss: 0.4242 - total_num_studs_loss: 3.8886 - holddown_model_loss: 12.6829 - nail_spacing_accuracy: 0.7559 - num_sheathing_panels_accuracy: 0.8932 - num_end_studs_accuracy: 0.8436 - total_num_studs_mae: 1.3830 - holddown_model_mae: 2.6513 - val_loss: 17.2370 - val_nail_spacing_loss: 0.5879 - val_num_sheathing_panels_loss: 0.2433 - val_num_end_studs_loss: 0.4246 - val_total_num_studs_loss: 3.5994 - val_holddown_model_loss: 12.3817 - val_nail_spacing_accuracy: 0.7499 - val_num_sheathing_panels_accuracy: 0.8939 - val_num_end_studs_accuracy: 0.8403 - val_total_num_studs_mae: 1.3439 - val_holddown_model_mae: 2.6164\n",
      "Epoch 11/100\n"
     ]
    },
    {
     "name": "stdout",
     "output_type": "stream",
     "text": [
      "1246/1246 [==============================] - 2s 2ms/step - loss: 17.4242 - nail_spacing_loss: 0.5744 - num_sheathing_panels_loss: 0.2428 - num_end_studs_loss: 0.4128 - total_num_studs_loss: 3.5418 - holddown_model_loss: 12.6523 - nail_spacing_accuracy: 0.7559 - num_sheathing_panels_accuracy: 0.8931 - num_end_studs_accuracy: 0.8475 - total_num_studs_mae: 1.3158 - holddown_model_mae: 2.6521 - val_loss: 16.9020 - val_nail_spacing_loss: 0.5876 - val_num_sheathing_panels_loss: 0.2432 - val_num_end_studs_loss: 0.4147 - val_total_num_studs_loss: 3.2942 - val_holddown_model_loss: 12.3623 - val_nail_spacing_accuracy: 0.7505 - val_num_sheathing_panels_accuracy: 0.8933 - val_num_end_studs_accuracy: 0.8450 - val_total_num_studs_mae: 1.2822 - val_holddown_model_mae: 2.6026\n",
      "Epoch 12/100\n",
      "1246/1246 [==============================] - 2s 2ms/step - loss: 17.1235 - nail_spacing_loss: 0.5742 - num_sheathing_panels_loss: 0.2428 - num_end_studs_loss: 0.4031 - total_num_studs_loss: 3.2700 - holddown_model_loss: 12.6335 - nail_spacing_accuracy: 0.7565 - num_sheathing_panels_accuracy: 0.8930 - num_end_studs_accuracy: 0.8503 - total_num_studs_mae: 1.2627 - holddown_model_mae: 2.6494 - val_loss: 16.6382 - val_nail_spacing_loss: 0.5878 - val_num_sheathing_panels_loss: 0.2432 - val_num_end_studs_loss: 0.4069 - val_total_num_studs_loss: 3.0531 - val_holddown_model_loss: 12.3471 - val_nail_spacing_accuracy: 0.7513 - val_num_sheathing_panels_accuracy: 0.8935 - val_num_end_studs_accuracy: 0.8482 - val_total_num_studs_mae: 1.2345 - val_holddown_model_mae: 2.6139\n",
      "Epoch 13/100\n",
      "1246/1246 [==============================] - 2s 2ms/step - loss: 16.8814 - nail_spacing_loss: 0.5739 - num_sheathing_panels_loss: 0.2426 - num_end_studs_loss: 0.3949 - total_num_studs_loss: 3.0521 - holddown_model_loss: 12.6178 - nail_spacing_accuracy: 0.7561 - num_sheathing_panels_accuracy: 0.8931 - num_end_studs_accuracy: 0.8535 - total_num_studs_mae: 1.2185 - holddown_model_mae: 2.6481 - val_loss: 16.4386 - val_nail_spacing_loss: 0.5880 - val_num_sheathing_panels_loss: 0.2436 - val_num_end_studs_loss: 0.4000 - val_total_num_studs_loss: 2.8586 - val_holddown_model_loss: 12.3483 - val_nail_spacing_accuracy: 0.7521 - val_num_sheathing_panels_accuracy: 0.8940 - val_num_end_studs_accuracy: 0.8526 - val_total_num_studs_mae: 1.1914 - val_holddown_model_mae: 2.6265\n",
      "Epoch 14/100\n",
      "1219/1246 [============================>.] - ETA: 0s - loss: 16.6812 - nail_spacing_loss: 0.5729 - num_sheathing_panels_loss: 0.2421 - num_end_studs_loss: 0.3874 - total_num_studs_loss: 2.8686 - holddown_model_loss: 12.6102 - nail_spacing_accuracy: 0.7571 - num_sheathing_panels_accuracy: 0.8930 - num_end_studs_accuracy: 0.8544 - total_num_studs_mae: 1.1807 - holddown_model_mae: 2.6505"
     ]
    },
    {
     "ename": "KeyboardInterrupt",
     "evalue": "",
     "output_type": "error",
     "traceback": [
      "\u001b[0;31m---------------------------------------------------------------------------\u001b[0m",
      "\u001b[0;31mKeyboardInterrupt\u001b[0m                         Traceback (most recent call last)",
      "Cell \u001b[0;32mIn[35], line 53\u001b[0m\n\u001b[1;32m     40\u001b[0m model\u001b[38;5;241m.\u001b[39mcompile(optimizer\u001b[38;5;241m=\u001b[39m\u001b[38;5;124m'\u001b[39m\u001b[38;5;124madam\u001b[39m\u001b[38;5;124m'\u001b[39m, \n\u001b[1;32m     41\u001b[0m               loss\u001b[38;5;241m=\u001b[39m{\u001b[38;5;124m'\u001b[39m\u001b[38;5;124mnail_spacing\u001b[39m\u001b[38;5;124m'\u001b[39m: \u001b[38;5;124m'\u001b[39m\u001b[38;5;124mcategorical_crossentropy\u001b[39m\u001b[38;5;124m'\u001b[39m,\n\u001b[1;32m     42\u001b[0m                     \u001b[38;5;124m'\u001b[39m\u001b[38;5;124mnum_sheathing_panels\u001b[39m\u001b[38;5;124m'\u001b[39m: \u001b[38;5;124m'\u001b[39m\u001b[38;5;124mcategorical_crossentropy\u001b[39m\u001b[38;5;124m'\u001b[39m,\n\u001b[0;32m   (...)\u001b[0m\n\u001b[1;32m     49\u001b[0m                        \u001b[38;5;124m'\u001b[39m\u001b[38;5;124mtotal_num_studs\u001b[39m\u001b[38;5;124m'\u001b[39m: \u001b[38;5;124m'\u001b[39m\u001b[38;5;124mmae\u001b[39m\u001b[38;5;124m'\u001b[39m,\n\u001b[1;32m     50\u001b[0m                        \u001b[38;5;124m'\u001b[39m\u001b[38;5;124mholddown_model\u001b[39m\u001b[38;5;124m'\u001b[39m: \u001b[38;5;124m'\u001b[39m\u001b[38;5;124mmae\u001b[39m\u001b[38;5;124m'\u001b[39m})\n\u001b[1;32m     52\u001b[0m \u001b[38;5;66;03m# Train the model\u001b[39;00m\n\u001b[0;32m---> 53\u001b[0m \u001b[43mmodel\u001b[49m\u001b[38;5;241;43m.\u001b[39;49m\u001b[43mfit\u001b[49m\u001b[43m(\u001b[49m\u001b[43mX_train\u001b[49m\u001b[43m,\u001b[49m\u001b[43m \u001b[49m\u001b[43m{\u001b[49m\u001b[38;5;124;43m'\u001b[39;49m\u001b[38;5;124;43mnail_spacing\u001b[39;49m\u001b[38;5;124;43m'\u001b[39;49m\u001b[43m:\u001b[49m\u001b[43m \u001b[49m\u001b[43mY_train_onehot_nail_spacing\u001b[49m\u001b[43m,\u001b[49m\u001b[43m \u001b[49m\n\u001b[1;32m     54\u001b[0m \u001b[43m                    \u001b[49m\u001b[38;5;124;43m'\u001b[39;49m\u001b[38;5;124;43mnum_sheathing_panels\u001b[39;49m\u001b[38;5;124;43m'\u001b[39;49m\u001b[43m:\u001b[49m\u001b[43m \u001b[49m\u001b[43mY_train_onehot_num_sheathing_panels\u001b[49m\u001b[43m,\u001b[49m\n\u001b[1;32m     55\u001b[0m \u001b[43m                    \u001b[49m\u001b[38;5;124;43m'\u001b[39;49m\u001b[38;5;124;43mnum_end_studs\u001b[39;49m\u001b[38;5;124;43m'\u001b[39;49m\u001b[43m:\u001b[49m\u001b[43m \u001b[49m\u001b[43mY_train_onehot_num_end_studs\u001b[49m\u001b[43m,\u001b[49m\n\u001b[1;32m     56\u001b[0m \u001b[43m                    \u001b[49m\u001b[38;5;124;43m'\u001b[39;49m\u001b[38;5;124;43mtotal_num_studs\u001b[39;49m\u001b[38;5;124;43m'\u001b[39;49m\u001b[43m:\u001b[49m\u001b[43m \u001b[49m\u001b[43mY_train\u001b[49m\u001b[43m[\u001b[49m\u001b[38;5;124;43m'\u001b[39;49m\u001b[38;5;124;43mTotal number studs\u001b[39;49m\u001b[38;5;124;43m'\u001b[39;49m\u001b[43m]\u001b[49m\u001b[43m,\u001b[49m\n\u001b[1;32m     57\u001b[0m \u001b[43m                    \u001b[49m\u001b[38;5;124;43m'\u001b[39;49m\u001b[38;5;124;43mholddown_model\u001b[39;49m\u001b[38;5;124;43m'\u001b[39;49m\u001b[43m:\u001b[49m\u001b[43m \u001b[49m\u001b[43mY_train\u001b[49m\u001b[43m[\u001b[49m\u001b[38;5;124;43m'\u001b[39;49m\u001b[38;5;124;43mHoldDown Model / ATS\u001b[39;49m\u001b[38;5;124;43m'\u001b[39;49m\u001b[43m]\u001b[49m\u001b[43m}\u001b[49m\u001b[43m,\u001b[49m\n\u001b[1;32m     58\u001b[0m \u001b[43m          \u001b[49m\u001b[43mepochs\u001b[49m\u001b[38;5;241;43m=\u001b[39;49m\u001b[38;5;241;43m100\u001b[39;49m\u001b[43m,\u001b[49m\u001b[43m \u001b[49m\u001b[43mbatch_size\u001b[49m\u001b[38;5;241;43m=\u001b[39;49m\u001b[38;5;241;43m32\u001b[39;49m\u001b[43m,\u001b[49m\u001b[43m \u001b[49m\u001b[43mvalidation_split\u001b[49m\u001b[38;5;241;43m=\u001b[39;49m\u001b[38;5;241;43m0.2\u001b[39;49m\u001b[43m)\u001b[49m\n",
      "File \u001b[0;32m/Library/Frameworks/Python.framework/Versions/3.10/lib/python3.10/site-packages/keras/utils/traceback_utils.py:65\u001b[0m, in \u001b[0;36mfilter_traceback.<locals>.error_handler\u001b[0;34m(*args, **kwargs)\u001b[0m\n\u001b[1;32m     63\u001b[0m filtered_tb \u001b[38;5;241m=\u001b[39m \u001b[38;5;28;01mNone\u001b[39;00m\n\u001b[1;32m     64\u001b[0m \u001b[38;5;28;01mtry\u001b[39;00m:\n\u001b[0;32m---> 65\u001b[0m     \u001b[38;5;28;01mreturn\u001b[39;00m \u001b[43mfn\u001b[49m\u001b[43m(\u001b[49m\u001b[38;5;241;43m*\u001b[39;49m\u001b[43margs\u001b[49m\u001b[43m,\u001b[49m\u001b[43m \u001b[49m\u001b[38;5;241;43m*\u001b[39;49m\u001b[38;5;241;43m*\u001b[39;49m\u001b[43mkwargs\u001b[49m\u001b[43m)\u001b[49m\n\u001b[1;32m     66\u001b[0m \u001b[38;5;28;01mexcept\u001b[39;00m \u001b[38;5;167;01mException\u001b[39;00m \u001b[38;5;28;01mas\u001b[39;00m e:\n\u001b[1;32m     67\u001b[0m     filtered_tb \u001b[38;5;241m=\u001b[39m _process_traceback_frames(e\u001b[38;5;241m.\u001b[39m__traceback__)\n",
      "File \u001b[0;32m/Library/Frameworks/Python.framework/Versions/3.10/lib/python3.10/site-packages/keras/engine/training.py:1694\u001b[0m, in \u001b[0;36mModel.fit\u001b[0;34m(self, x, y, batch_size, epochs, verbose, callbacks, validation_split, validation_data, shuffle, class_weight, sample_weight, initial_epoch, steps_per_epoch, validation_steps, validation_batch_size, validation_freq, max_queue_size, workers, use_multiprocessing)\u001b[0m\n\u001b[1;32m   1679\u001b[0m \u001b[38;5;28;01mif\u001b[39;00m \u001b[38;5;28mgetattr\u001b[39m(\u001b[38;5;28mself\u001b[39m, \u001b[38;5;124m\"\u001b[39m\u001b[38;5;124m_eval_data_handler\u001b[39m\u001b[38;5;124m\"\u001b[39m, \u001b[38;5;28;01mNone\u001b[39;00m) \u001b[38;5;129;01mis\u001b[39;00m \u001b[38;5;28;01mNone\u001b[39;00m:\n\u001b[1;32m   1680\u001b[0m     \u001b[38;5;28mself\u001b[39m\u001b[38;5;241m.\u001b[39m_eval_data_handler \u001b[38;5;241m=\u001b[39m data_adapter\u001b[38;5;241m.\u001b[39mget_data_handler(\n\u001b[1;32m   1681\u001b[0m         x\u001b[38;5;241m=\u001b[39mval_x,\n\u001b[1;32m   1682\u001b[0m         y\u001b[38;5;241m=\u001b[39mval_y,\n\u001b[0;32m   (...)\u001b[0m\n\u001b[1;32m   1692\u001b[0m         steps_per_execution\u001b[38;5;241m=\u001b[39m\u001b[38;5;28mself\u001b[39m\u001b[38;5;241m.\u001b[39m_steps_per_execution,\n\u001b[1;32m   1693\u001b[0m     )\n\u001b[0;32m-> 1694\u001b[0m val_logs \u001b[38;5;241m=\u001b[39m \u001b[38;5;28;43mself\u001b[39;49m\u001b[38;5;241;43m.\u001b[39;49m\u001b[43mevaluate\u001b[49m\u001b[43m(\u001b[49m\n\u001b[1;32m   1695\u001b[0m \u001b[43m    \u001b[49m\u001b[43mx\u001b[49m\u001b[38;5;241;43m=\u001b[39;49m\u001b[43mval_x\u001b[49m\u001b[43m,\u001b[49m\n\u001b[1;32m   1696\u001b[0m \u001b[43m    \u001b[49m\u001b[43my\u001b[49m\u001b[38;5;241;43m=\u001b[39;49m\u001b[43mval_y\u001b[49m\u001b[43m,\u001b[49m\n\u001b[1;32m   1697\u001b[0m \u001b[43m    \u001b[49m\u001b[43msample_weight\u001b[49m\u001b[38;5;241;43m=\u001b[39;49m\u001b[43mval_sample_weight\u001b[49m\u001b[43m,\u001b[49m\n\u001b[1;32m   1698\u001b[0m \u001b[43m    \u001b[49m\u001b[43mbatch_size\u001b[49m\u001b[38;5;241;43m=\u001b[39;49m\u001b[43mvalidation_batch_size\u001b[49m\u001b[43m \u001b[49m\u001b[38;5;129;43;01mor\u001b[39;49;00m\u001b[43m \u001b[49m\u001b[43mbatch_size\u001b[49m\u001b[43m,\u001b[49m\n\u001b[1;32m   1699\u001b[0m \u001b[43m    \u001b[49m\u001b[43msteps\u001b[49m\u001b[38;5;241;43m=\u001b[39;49m\u001b[43mvalidation_steps\u001b[49m\u001b[43m,\u001b[49m\n\u001b[1;32m   1700\u001b[0m \u001b[43m    \u001b[49m\u001b[43mcallbacks\u001b[49m\u001b[38;5;241;43m=\u001b[39;49m\u001b[43mcallbacks\u001b[49m\u001b[43m,\u001b[49m\n\u001b[1;32m   1701\u001b[0m \u001b[43m    \u001b[49m\u001b[43mmax_queue_size\u001b[49m\u001b[38;5;241;43m=\u001b[39;49m\u001b[43mmax_queue_size\u001b[49m\u001b[43m,\u001b[49m\n\u001b[1;32m   1702\u001b[0m \u001b[43m    \u001b[49m\u001b[43mworkers\u001b[49m\u001b[38;5;241;43m=\u001b[39;49m\u001b[43mworkers\u001b[49m\u001b[43m,\u001b[49m\n\u001b[1;32m   1703\u001b[0m \u001b[43m    \u001b[49m\u001b[43muse_multiprocessing\u001b[49m\u001b[38;5;241;43m=\u001b[39;49m\u001b[43muse_multiprocessing\u001b[49m\u001b[43m,\u001b[49m\n\u001b[1;32m   1704\u001b[0m \u001b[43m    \u001b[49m\u001b[43mreturn_dict\u001b[49m\u001b[38;5;241;43m=\u001b[39;49m\u001b[38;5;28;43;01mTrue\u001b[39;49;00m\u001b[43m,\u001b[49m\n\u001b[1;32m   1705\u001b[0m \u001b[43m    \u001b[49m\u001b[43m_use_cached_eval_dataset\u001b[49m\u001b[38;5;241;43m=\u001b[39;49m\u001b[38;5;28;43;01mTrue\u001b[39;49;00m\u001b[43m,\u001b[49m\n\u001b[1;32m   1706\u001b[0m \u001b[43m\u001b[49m\u001b[43m)\u001b[49m\n\u001b[1;32m   1707\u001b[0m val_logs \u001b[38;5;241m=\u001b[39m {\n\u001b[1;32m   1708\u001b[0m     \u001b[38;5;124m\"\u001b[39m\u001b[38;5;124mval_\u001b[39m\u001b[38;5;124m\"\u001b[39m \u001b[38;5;241m+\u001b[39m name: val \u001b[38;5;28;01mfor\u001b[39;00m name, val \u001b[38;5;129;01min\u001b[39;00m val_logs\u001b[38;5;241m.\u001b[39mitems()\n\u001b[1;32m   1709\u001b[0m }\n\u001b[1;32m   1710\u001b[0m epoch_logs\u001b[38;5;241m.\u001b[39mupdate(val_logs)\n",
      "File \u001b[0;32m/Library/Frameworks/Python.framework/Versions/3.10/lib/python3.10/site-packages/keras/utils/traceback_utils.py:65\u001b[0m, in \u001b[0;36mfilter_traceback.<locals>.error_handler\u001b[0;34m(*args, **kwargs)\u001b[0m\n\u001b[1;32m     63\u001b[0m filtered_tb \u001b[38;5;241m=\u001b[39m \u001b[38;5;28;01mNone\u001b[39;00m\n\u001b[1;32m     64\u001b[0m \u001b[38;5;28;01mtry\u001b[39;00m:\n\u001b[0;32m---> 65\u001b[0m     \u001b[38;5;28;01mreturn\u001b[39;00m \u001b[43mfn\u001b[49m\u001b[43m(\u001b[49m\u001b[38;5;241;43m*\u001b[39;49m\u001b[43margs\u001b[49m\u001b[43m,\u001b[49m\u001b[43m \u001b[49m\u001b[38;5;241;43m*\u001b[39;49m\u001b[38;5;241;43m*\u001b[39;49m\u001b[43mkwargs\u001b[49m\u001b[43m)\u001b[49m\n\u001b[1;32m     66\u001b[0m \u001b[38;5;28;01mexcept\u001b[39;00m \u001b[38;5;167;01mException\u001b[39;00m \u001b[38;5;28;01mas\u001b[39;00m e:\n\u001b[1;32m     67\u001b[0m     filtered_tb \u001b[38;5;241m=\u001b[39m _process_traceback_frames(e\u001b[38;5;241m.\u001b[39m__traceback__)\n",
      "File \u001b[0;32m/Library/Frameworks/Python.framework/Versions/3.10/lib/python3.10/site-packages/keras/engine/training.py:2032\u001b[0m, in \u001b[0;36mModel.evaluate\u001b[0;34m(self, x, y, batch_size, verbose, sample_weight, steps, callbacks, max_queue_size, workers, use_multiprocessing, return_dict, **kwargs)\u001b[0m\n\u001b[1;32m   2030\u001b[0m \u001b[38;5;28mself\u001b[39m\u001b[38;5;241m.\u001b[39m_test_counter\u001b[38;5;241m.\u001b[39massign(\u001b[38;5;241m0\u001b[39m)\n\u001b[1;32m   2031\u001b[0m callbacks\u001b[38;5;241m.\u001b[39mon_test_begin()\n\u001b[0;32m-> 2032\u001b[0m \u001b[38;5;28;01mfor\u001b[39;00m _, iterator \u001b[38;5;129;01min\u001b[39;00m data_handler\u001b[38;5;241m.\u001b[39menumerate_epochs():  \u001b[38;5;66;03m# Single epoch.\u001b[39;00m\n\u001b[1;32m   2033\u001b[0m     \u001b[38;5;28mself\u001b[39m\u001b[38;5;241m.\u001b[39mreset_metrics()\n\u001b[1;32m   2034\u001b[0m     \u001b[38;5;28;01mwith\u001b[39;00m data_handler\u001b[38;5;241m.\u001b[39mcatch_stop_iteration():\n",
      "File \u001b[0;32m/Library/Frameworks/Python.framework/Versions/3.10/lib/python3.10/site-packages/keras/engine/data_adapter.py:1304\u001b[0m, in \u001b[0;36mDataHandler.enumerate_epochs\u001b[0;34m(self)\u001b[0m\n\u001b[1;32m   1302\u001b[0m \u001b[38;5;124;03m\"\"\"Yields `(epoch, tf.data.Iterator)`.\"\"\"\u001b[39;00m\n\u001b[1;32m   1303\u001b[0m \u001b[38;5;28;01mwith\u001b[39;00m \u001b[38;5;28mself\u001b[39m\u001b[38;5;241m.\u001b[39m_truncate_execution_to_epoch():\n\u001b[0;32m-> 1304\u001b[0m     data_iterator \u001b[38;5;241m=\u001b[39m \u001b[38;5;28;43miter\u001b[39;49m\u001b[43m(\u001b[49m\u001b[38;5;28;43mself\u001b[39;49m\u001b[38;5;241;43m.\u001b[39;49m\u001b[43m_dataset\u001b[49m\u001b[43m)\u001b[49m\n\u001b[1;32m   1305\u001b[0m     \u001b[38;5;28;01mfor\u001b[39;00m epoch \u001b[38;5;129;01min\u001b[39;00m \u001b[38;5;28mrange\u001b[39m(\u001b[38;5;28mself\u001b[39m\u001b[38;5;241m.\u001b[39m_initial_epoch, \u001b[38;5;28mself\u001b[39m\u001b[38;5;241m.\u001b[39m_epochs):\n\u001b[1;32m   1306\u001b[0m         \u001b[38;5;28;01mif\u001b[39;00m \u001b[38;5;28mself\u001b[39m\u001b[38;5;241m.\u001b[39m_insufficient_data:  \u001b[38;5;66;03m# Set by `catch_stop_iteration`.\u001b[39;00m\n",
      "File \u001b[0;32m/Library/Frameworks/Python.framework/Versions/3.10/lib/python3.10/site-packages/tensorflow/python/data/ops/dataset_ops.py:499\u001b[0m, in \u001b[0;36mDatasetV2.__iter__\u001b[0;34m(self)\u001b[0m\n\u001b[1;32m    497\u001b[0m \u001b[38;5;28;01mif\u001b[39;00m context\u001b[38;5;241m.\u001b[39mexecuting_eagerly() \u001b[38;5;129;01mor\u001b[39;00m ops\u001b[38;5;241m.\u001b[39minside_function():\n\u001b[1;32m    498\u001b[0m   \u001b[38;5;28;01mwith\u001b[39;00m ops\u001b[38;5;241m.\u001b[39mcolocate_with(\u001b[38;5;28mself\u001b[39m\u001b[38;5;241m.\u001b[39m_variant_tensor):\n\u001b[0;32m--> 499\u001b[0m     \u001b[38;5;28;01mreturn\u001b[39;00m \u001b[43miterator_ops\u001b[49m\u001b[38;5;241;43m.\u001b[39;49m\u001b[43mOwnedIterator\u001b[49m\u001b[43m(\u001b[49m\u001b[38;5;28;43mself\u001b[39;49m\u001b[43m)\u001b[49m\n\u001b[1;32m    500\u001b[0m \u001b[38;5;28;01melse\u001b[39;00m:\n\u001b[1;32m    501\u001b[0m   \u001b[38;5;28;01mraise\u001b[39;00m \u001b[38;5;167;01mRuntimeError\u001b[39;00m(\u001b[38;5;124m\"\u001b[39m\u001b[38;5;124m`tf.data.Dataset` only supports Python-style \u001b[39m\u001b[38;5;124m\"\u001b[39m\n\u001b[1;32m    502\u001b[0m                      \u001b[38;5;124m\"\u001b[39m\u001b[38;5;124miteration in eager mode or within tf.function.\u001b[39m\u001b[38;5;124m\"\u001b[39m)\n",
      "File \u001b[0;32m/Library/Frameworks/Python.framework/Versions/3.10/lib/python3.10/site-packages/tensorflow/python/data/ops/iterator_ops.py:703\u001b[0m, in \u001b[0;36mOwnedIterator.__init__\u001b[0;34m(self, dataset, components, element_spec)\u001b[0m\n\u001b[1;32m    699\u001b[0m   \u001b[38;5;28;01mif\u001b[39;00m (components \u001b[38;5;129;01mis\u001b[39;00m \u001b[38;5;129;01mnot\u001b[39;00m \u001b[38;5;28;01mNone\u001b[39;00m \u001b[38;5;129;01mor\u001b[39;00m element_spec \u001b[38;5;129;01mis\u001b[39;00m \u001b[38;5;129;01mnot\u001b[39;00m \u001b[38;5;28;01mNone\u001b[39;00m):\n\u001b[1;32m    700\u001b[0m     \u001b[38;5;28;01mraise\u001b[39;00m \u001b[38;5;167;01mValueError\u001b[39;00m(\n\u001b[1;32m    701\u001b[0m         \u001b[38;5;124m\"\u001b[39m\u001b[38;5;124mWhen `dataset` is provided, `element_spec` and `components` must \u001b[39m\u001b[38;5;124m\"\u001b[39m\n\u001b[1;32m    702\u001b[0m         \u001b[38;5;124m\"\u001b[39m\u001b[38;5;124mnot be specified.\u001b[39m\u001b[38;5;124m\"\u001b[39m)\n\u001b[0;32m--> 703\u001b[0m   \u001b[38;5;28;43mself\u001b[39;49m\u001b[38;5;241;43m.\u001b[39;49m\u001b[43m_create_iterator\u001b[49m\u001b[43m(\u001b[49m\u001b[43mdataset\u001b[49m\u001b[43m)\u001b[49m\n\u001b[1;32m    705\u001b[0m \u001b[38;5;28mself\u001b[39m\u001b[38;5;241m.\u001b[39m_get_next_call_count \u001b[38;5;241m=\u001b[39m \u001b[38;5;241m0\u001b[39m\n",
      "File \u001b[0;32m/Library/Frameworks/Python.framework/Versions/3.10/lib/python3.10/site-packages/tensorflow/python/data/ops/iterator_ops.py:742\u001b[0m, in \u001b[0;36mOwnedIterator._create_iterator\u001b[0;34m(self, dataset)\u001b[0m\n\u001b[1;32m    739\u001b[0m   \u001b[38;5;28;01massert\u001b[39;00m \u001b[38;5;28mlen\u001b[39m(fulltype\u001b[38;5;241m.\u001b[39margs[\u001b[38;5;241m0\u001b[39m]\u001b[38;5;241m.\u001b[39margs[\u001b[38;5;241m0\u001b[39m]\u001b[38;5;241m.\u001b[39margs) \u001b[38;5;241m==\u001b[39m \u001b[38;5;28mlen\u001b[39m(\n\u001b[1;32m    740\u001b[0m       \u001b[38;5;28mself\u001b[39m\u001b[38;5;241m.\u001b[39m_flat_output_types)\n\u001b[1;32m    741\u001b[0m   \u001b[38;5;28mself\u001b[39m\u001b[38;5;241m.\u001b[39m_iterator_resource\u001b[38;5;241m.\u001b[39mop\u001b[38;5;241m.\u001b[39mexperimental_set_type(fulltype)\n\u001b[0;32m--> 742\u001b[0m \u001b[43mgen_dataset_ops\u001b[49m\u001b[38;5;241;43m.\u001b[39;49m\u001b[43mmake_iterator\u001b[49m\u001b[43m(\u001b[49m\u001b[43mds_variant\u001b[49m\u001b[43m,\u001b[49m\u001b[43m \u001b[49m\u001b[38;5;28;43mself\u001b[39;49m\u001b[38;5;241;43m.\u001b[39;49m\u001b[43m_iterator_resource\u001b[49m\u001b[43m)\u001b[49m\n",
      "File \u001b[0;32m/Library/Frameworks/Python.framework/Versions/3.10/lib/python3.10/site-packages/tensorflow/python/ops/gen_dataset_ops.py:3409\u001b[0m, in \u001b[0;36mmake_iterator\u001b[0;34m(dataset, iterator, name)\u001b[0m\n\u001b[1;32m   3407\u001b[0m \u001b[38;5;28;01mif\u001b[39;00m tld\u001b[38;5;241m.\u001b[39mis_eager:\n\u001b[1;32m   3408\u001b[0m   \u001b[38;5;28;01mtry\u001b[39;00m:\n\u001b[0;32m-> 3409\u001b[0m     _result \u001b[38;5;241m=\u001b[39m \u001b[43mpywrap_tfe\u001b[49m\u001b[38;5;241;43m.\u001b[39;49m\u001b[43mTFE_Py_FastPathExecute\u001b[49m\u001b[43m(\u001b[49m\n\u001b[1;32m   3410\u001b[0m \u001b[43m      \u001b[49m\u001b[43m_ctx\u001b[49m\u001b[43m,\u001b[49m\u001b[43m \u001b[49m\u001b[38;5;124;43m\"\u001b[39;49m\u001b[38;5;124;43mMakeIterator\u001b[39;49m\u001b[38;5;124;43m\"\u001b[39;49m\u001b[43m,\u001b[49m\u001b[43m \u001b[49m\u001b[43mname\u001b[49m\u001b[43m,\u001b[49m\u001b[43m \u001b[49m\u001b[43mdataset\u001b[49m\u001b[43m,\u001b[49m\u001b[43m \u001b[49m\u001b[43miterator\u001b[49m\u001b[43m)\u001b[49m\n\u001b[1;32m   3411\u001b[0m     \u001b[38;5;28;01mreturn\u001b[39;00m _result\n\u001b[1;32m   3412\u001b[0m   \u001b[38;5;28;01mexcept\u001b[39;00m _core\u001b[38;5;241m.\u001b[39m_NotOkStatusException \u001b[38;5;28;01mas\u001b[39;00m e:\n",
      "\u001b[0;31mKeyboardInterrupt\u001b[0m: "
     ]
    }
   ],
   "source": [
    "input_shape = X_train.shape[1] # Number of features\n",
    "\n",
    "input_layer = Input(shape=(input_shape,))\n",
    "\n",
    "\n",
    "# One hot encoding Y\n",
    "label_encoder_nail_spacing = LabelEncoder()\n",
    "Y_train['Nail spacing [cm]'] = label_encoder_nail_spacing.fit_transform(Y_train['Nail spacing [cm]'])\n",
    "Y_test['Nail spacing [cm]'] = label_encoder_nail_spacing.transform(Y_test['Nail spacing [cm]'])\n",
    "Y_train_onehot_nail_spacing = to_categorical(Y_train['Nail spacing [cm]'], num_classes=3)\n",
    "Y_test_onehot_nail_spacing = to_categorical(Y_test['Nail spacing [cm]'], num_classes=3)\n",
    "\n",
    "label_encoder_num_sheathing_panels = LabelEncoder()\n",
    "Y_train['Number sheathing panels'] = label_encoder_num_sheathing_panels.fit_transform(Y_train['Number sheathing panels'])\n",
    "Y_test['Number sheathing panels'] = label_encoder_num_sheathing_panels.transform(Y_test['Number sheathing panels'])\n",
    "Y_train_onehot_num_sheathing_panels = to_categorical(Y_train['Number sheathing panels'], num_classes=2)\n",
    "Y_test_onehot_num_sheathing_panels = to_categorical(Y_test['Number sheathing panels'], num_classes=2)\n",
    "\n",
    "label_encoder_num_end_studs = LabelEncoder()\n",
    "Y_train['Number end studs'] = label_encoder_num_end_studs.fit_transform(Y_train['Number end studs'])\n",
    "Y_test['Number end studs'] = label_encoder_num_end_studs.transform(Y_test['Number end studs'])\n",
    "Y_train_onehot_num_end_studs = to_categorical(Y_train['Number end studs'], num_classes=6)\n",
    "Y_test_onehot_num_end_studs = to_categorical(Y_test['Number end studs'], num_classes=6)\n",
    "\n",
    "# Define separate branches for each output\n",
    "nail_spacing_output = Dense(3, activation='softmax', name='nail_spacing')(input_layer)\n",
    "num_sheathing_panels_output = Dense(2, activation='softmax', name='num_sheathing_panels')(input_layer)\n",
    "num_end_studs_output = Dense(6, activation='softmax', name='num_end_studs')(input_layer)\n",
    "total_num_studs_output = Dense(1, activation='linear', name='total_num_studs')(input_layer)\n",
    "holddown_model_output = Dense(1, activation='linear', name='holddown_model')(input_layer)\n",
    "#tx_output = Dense(1, activation='linear', name='tx')(input_layer)\n",
    "#ty_output = Dense(1, activation='linear', name='ty')(input_layer)\n",
    "\n",
    "# Combine the outputs into a single model\n",
    "model = Model(inputs=input_layer, outputs=[nail_spacing_output, num_sheathing_panels_output, \n",
    "                                           num_end_studs_output, total_num_studs_output, \n",
    "                                           holddown_model_output])\n",
    "\n",
    "# Compile the model\n",
    "model.compile(optimizer='adam', \n",
    "              loss={'nail_spacing': 'categorical_crossentropy',\n",
    "                    'num_sheathing_panels': 'categorical_crossentropy',\n",
    "                    'num_end_studs': 'categorical_crossentropy',\n",
    "                    'total_num_studs': 'mean_squared_error',\n",
    "                    'holddown_model': 'mean_squared_error'},\n",
    "              metrics={'nail_spacing': 'accuracy',\n",
    "                       'num_sheathing_panels': 'accuracy',\n",
    "                       'num_end_studs': 'accuracy',\n",
    "                       'total_num_studs': 'mae',\n",
    "                       'holddown_model': 'mae'})\n",
    "\n",
    "# Train the model\n",
    "model.fit(X_train, {'nail_spacing': Y_train_onehot_nail_spacing, \n",
    "                    'num_sheathing_panels': Y_train_onehot_num_sheathing_panels,\n",
    "                    'num_end_studs': Y_train_onehot_num_end_studs,\n",
    "                    'total_num_studs': Y_train['Total number studs'],\n",
    "                    'holddown_model': Y_train['HoldDown Model / ATS']},\n",
    "          epochs=100, batch_size=32, validation_split=0.2)\n",
    "\n"
   ]
  },
  {
   "cell_type": "code",
   "execution_count": null,
   "id": "c4213464",
   "metadata": {},
   "outputs": [],
   "source": [
    "# Evaluate the model on the test set\n",
    "evaluation_results = model.evaluate(X_test, {'nail_spacing': Y_test_onehot_nail_spacing, \n",
    "                                             'num_sheathing_panels': Y_test_onehot_num_sheathing_panels,\n",
    "                                             'num_end_studs': Y_test_onehot_num_end_studs,\n",
    "                                             'total_num_studs': Y_test['Total number studs'],\n",
    "                                             'holddown_model': Y_test['HoldDown Model']},\n",
    "                                    batch_size=32)\n",
    "\n",
    "# Extract and print the accuracy for each output\n",
    "output_metrics = {name: value for name, value in zip(model.metrics_names, evaluation_results)}\n",
    "print(\"Metrics on Test Set:\")\n",
    "for output_name, metric_value in output_metrics.items():\n",
    "    print(f\"{output_name}: {metric_value}\")\n"
   ]
  },
  {
   "cell_type": "code",
   "execution_count": null,
   "id": "9898da93",
   "metadata": {},
   "outputs": [],
   "source": []
  }
 ],
 "metadata": {
  "kernelspec": {
   "display_name": "Python 3 (ipykernel)",
   "language": "python",
   "name": "python3"
  },
  "language_info": {
   "codemirror_mode": {
    "name": "ipython",
    "version": 3
   },
   "file_extension": ".py",
   "mimetype": "text/x-python",
   "name": "python",
   "nbconvert_exporter": "python",
   "pygments_lexer": "ipython3",
   "version": "3.10.7"
  }
 },
 "nbformat": 4,
 "nbformat_minor": 5
}
