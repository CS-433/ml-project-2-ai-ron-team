{
 "cells": [
  {
   "cell_type": "code",
   "execution_count": 8,
   "id": "3220b08f",
   "metadata": {},
   "outputs": [],
   "source": [
    "import pandas as pd\n",
    "from sklearn.model_selection import train_test_split\n",
    "\n",
    "# Load the data from the 'data_processed.csv' file \n",
    "data = pd.read_csv('data_processed.csv', low_memory=False)\n",
    "\n",
    "#Split into X and Y:\n",
    "\n",
    "# Since the data is alredy splitted into X and Y\n",
    "# Find the index of the \"Story Area\" column, it corresponds to the last column in X\n",
    "story_area_index = data.columns.get_loc(\"Story Area\")\n",
    "last_index = story_area_index + 1\n",
    "\n",
    "# Split the data into X and Y\n",
    "X = data.iloc[:, :last_index]  # Features from the beginning up to \"Story Area\"\n",
    "Y = data.iloc[:, last_index:]  # \n",
    "\n",
    "X_train, X_test, Y_train, Y_test = train_test_split(X, Y, test_size=0.2, random_state=42)\n",
    "\n",
    "file_path_X_train = 'X_train_C.csv'\n",
    "X_train.to_csv(file_path_X_train, index=False)\n",
    "\n",
    "file_path_X_test = 'X_test_C.csv'\n",
    "X_test.to_csv(file_path_X_test, index=False)\n",
    "\n",
    "file_path_Y_train = 'Y_train_C.csv'\n",
    "Y_train.to_csv(file_path_Y_train, index=False)\n",
    "\n",
    "file_path_Y_test = 'Y_test_C.csv'\n",
    "Y_test.to_csv(file_path_Y_test, index=False)"
   ]
  },
  {
   "cell_type": "code",
   "execution_count": null,
   "id": "101f4ddf",
   "metadata": {},
   "outputs": [],
   "source": []
  },
  {
   "cell_type": "code",
   "execution_count": null,
   "id": "4a496980",
   "metadata": {},
   "outputs": [],
   "source": []
  }
 ],
 "metadata": {
  "kernelspec": {
   "display_name": "Python 3 (ipykernel)",
   "language": "python",
   "name": "python3"
  },
  "language_info": {
   "codemirror_mode": {
    "name": "ipython",
    "version": 3
   },
   "file_extension": ".py",
   "mimetype": "text/x-python",
   "name": "python",
   "nbconvert_exporter": "python",
   "pygments_lexer": "ipython3",
   "version": "3.10.7"
  }
 },
 "nbformat": 4,
 "nbformat_minor": 5
}
